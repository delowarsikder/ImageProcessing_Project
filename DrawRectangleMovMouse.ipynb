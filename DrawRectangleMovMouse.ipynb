{
 "cells": [
  {
   "cell_type": "code",
   "execution_count": 1,
   "metadata": {},
   "outputs": [],
   "source": [
    "import numpy as np\n",
    "import cv2\n",
    "import matplotlib.pyplot as plt\n",
    "%matplotlib inline\n",
    "\n",
    "##variable\n",
    "######True when mouse down and False when mouse down\n",
    "drawing=False\n",
    "ix,iy=-1,-1\n",
    "\n",
    "########Functions########\n",
    "def draw_rectangle(event,x,y,flags,param):\n",
    "    global drawing,ix,iy\n",
    "    \n",
    "    if event == cv2.EVENT_LBUTTONDOWN:  ####event for left button\n",
    "        drawing=True\n",
    "        ix,iy=x,y\n",
    "    elif event==cv2.EVENT_MOUSEMOVE: ####event when mouse moving\n",
    "        if drawing==True:\n",
    "            cv2.rectangle(fix_img,(ix,iy),(x,y),(255,0,0),-1)\n",
    "    elif event==cv2.EVENT_LBUTTONUP:####event for right button\n",
    "        drawing=False\n",
    "        cv2.rectangle(fix_img,(ix,iy),(x,y),(255,0,0),-1)\n",
    "\n",
    "cv2.namedWindow(winname='rectangle')\n",
    "cv2.setMouseCallback('rectangle',draw_rectangle)\n",
    "\n",
    "\n",
    "#########create a imge \n",
    "# fix_img=np.zeros(shape=(512,512,3),dtype=np.int8) ####gray color on board\n",
    "fix_img=np.zeros(shape=(512,512,3)) ####back color\n",
    "# plt.imshow(fix_img)\n",
    "###showing image using cv\n",
    "while True:\n",
    "    cv2.imshow('rectangle',fix_img)\n",
    "    if cv2.waitKey(10) & 0xFF == 27:\n",
    "        break\n",
    "cv2.destroyAllWindows()"
   ]
  },
  {
   "cell_type": "code",
   "execution_count": null,
   "metadata": {},
   "outputs": [],
   "source": []
  }
 ],
 "metadata": {
  "kernelspec": {
   "display_name": "Python 3",
   "language": "python",
   "name": "python3"
  },
  "language_info": {
   "codemirror_mode": {
    "name": "ipython",
    "version": 3
   },
   "file_extension": ".py",
   "mimetype": "text/x-python",
   "name": "python",
   "nbconvert_exporter": "python",
   "pygments_lexer": "ipython3",
   "version": "3.8.1"
  }
 },
 "nbformat": 4,
 "nbformat_minor": 4
}
