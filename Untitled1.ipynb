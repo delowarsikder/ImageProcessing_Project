{
 "cells": [
  {
   "cell_type": "code",
   "execution_count": 1,
   "metadata": {},
   "outputs": [
    {
     "name": "stdout",
     "output_type": "stream",
     "text": [
      "[2.3, 0.10025884372280375, -2]\n"
     ]
    }
   ],
   "source": [
    "from math import exp\n",
    "\n",
    "def apply_func(L,x):\n",
    "  \"\"\"\n",
    "  Applies function given by each element in L to x\n",
    "  Parameters\n",
    "  ----------\n",
    "  L : list containing the operations\n",
    "  x : the operand\n",
    "  Returns\n",
    "  -------\n",
    "  result: resulting list\n",
    "  \"\"\" \n",
    "  result = []\n",
    "  for f in L:\n",
    "    result.append(f(x))\n",
    "  \n",
    "  return result\n",
    "\n",
    "function_list = [abs,exp,int]\n",
    "print (apply_func(function_list,-2.3))"
   ]
  },
  {
   "cell_type": "code",
   "execution_count": null,
   "metadata": {},
   "outputs": [],
   "source": []
  }
 ],
 "metadata": {
  "kernelspec": {
   "display_name": "Python 3",
   "language": "python",
   "name": "python3"
  },
  "language_info": {
   "codemirror_mode": {
    "name": "ipython",
    "version": 3
   },
   "file_extension": ".py",
   "mimetype": "text/x-python",
   "name": "python",
   "nbconvert_exporter": "python",
   "pygments_lexer": "ipython3",
   "version": "3.7.7"
  }
 },
 "nbformat": 4,
 "nbformat_minor": 4
}
