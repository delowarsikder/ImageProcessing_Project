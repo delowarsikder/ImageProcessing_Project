{
 "cells": [
  {
   "cell_type": "code",
   "execution_count": 2,
   "metadata": {},
   "outputs": [
    {
     "ename": "ModuleNotFoundError",
     "evalue": "No module named 'Tkinter'",
     "output_type": "error",
     "traceback": [
      "\u001b[1;31m---------------------------------------------------------------------------\u001b[0m",
      "\u001b[1;31mModuleNotFoundError\u001b[0m                       Traceback (most recent call last)",
      "\u001b[1;32m<ipython-input-2-afaac587f52a>\u001b[0m in \u001b[0;36m<module>\u001b[1;34m\u001b[0m\n\u001b[1;32m----> 1\u001b[1;33m \u001b[1;32mfrom\u001b[0m \u001b[0mTkinter\u001b[0m \u001b[1;32mimport\u001b[0m \u001b[1;33m*\u001b[0m\u001b[1;33m\u001b[0m\u001b[1;33m\u001b[0m\u001b[0m\n\u001b[0m\u001b[0;32m      2\u001b[0m \u001b[1;33m\u001b[0m\u001b[0m\n\u001b[0;32m      3\u001b[0m \u001b[1;32mclass\u001b[0m \u001b[0mApplication\u001b[0m\u001b[1;33m(\u001b[0m\u001b[0mFrame\u001b[0m\u001b[1;33m)\u001b[0m\u001b[1;33m:\u001b[0m\u001b[1;33m\u001b[0m\u001b[1;33m\u001b[0m\u001b[0m\n\u001b[0;32m      4\u001b[0m     \u001b[1;32mdef\u001b[0m \u001b[0msay_hi\u001b[0m\u001b[1;33m(\u001b[0m\u001b[0mself\u001b[0m\u001b[1;33m)\u001b[0m\u001b[1;33m:\u001b[0m\u001b[1;33m\u001b[0m\u001b[1;33m\u001b[0m\u001b[0m\n\u001b[0;32m      5\u001b[0m         \u001b[0mprint\u001b[0m\u001b[1;33m(\u001b[0m\u001b[1;34m\"hi there, everyone!\"\u001b[0m\u001b[1;33m)\u001b[0m\u001b[1;33m\u001b[0m\u001b[1;33m\u001b[0m\u001b[0m\n",
      "\u001b[1;31mModuleNotFoundError\u001b[0m: No module named 'Tkinter'"
     ]
    }
   ],
   "source": [
    "from Tkinter import *\n",
    "\n",
    "class Application(Frame):\n",
    "    def say_hi(self):\n",
    "        print(\"hi there, everyone!\")\n",
    "\n",
    "    def createWidgets(self):\n",
    "        self.QUIT = Button(self)\n",
    "        self.QUIT[\"text\"] = \"QUIT\"\n",
    "        self.QUIT[\"fg\"]   = \"red\"\n",
    "        self.QUIT[\"command\"] =  self.quit\n",
    "\n",
    "        self.QUIT.pack({\"side\": \"left\"})\n",
    "\n",
    "        self.hi_there = Button(self)\n",
    "        self.hi_there[\"text\"] = \"Hello\",\n",
    "        self.hi_there[\"command\"] = self.say_hi\n",
    "\n",
    "        self.hi_there.pack({\"side\": \"left\"})\n",
    "\n",
    "    def __init__(self, master=None):\n",
    "        Frame.__init__(self, master)\n",
    "        self.pack()\n",
    "        self.createWidgets()\n",
    "\n",
    "root = Tk()\n",
    "app = Application(master=root)\n",
    "app.mainloop()\n",
    "root.destroy()"
   ]
  }
 ],
 "metadata": {
  "kernelspec": {
   "display_name": "Python 3",
   "language": "python",
   "name": "python3"
  },
  "language_info": {
   "codemirror_mode": {
    "name": "ipython",
    "version": 3
   },
   "file_extension": ".py",
   "mimetype": "text/x-python",
   "name": "python",
   "nbconvert_exporter": "python",
   "pygments_lexer": "ipython3",
   "version": "3.7.7"
  }
 },
 "nbformat": 4,
 "nbformat_minor": 4
}
