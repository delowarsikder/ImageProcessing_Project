{
 "cells": [
  {
   "cell_type": "code",
   "execution_count": 2,
   "metadata": {},
   "outputs": [],
   "source": [
    "import numpy as np\n",
    "import cv2\n",
    "import matplotlib.pyplot as plt\n",
    "%matplotlib inline\n",
    "\n",
    "########Functions########\n",
    "def draw_circle(event,x,y,flags,param):\n",
    "    if event == cv2.EVENT_LBUTTONDOWN:  ####event for left button\n",
    "        cv2.circle(fix_img,(x,y),50,(0,255,255),2)\n",
    "    elif event==cv2.EVENT_RBUTTONDOWN:####event for right button\n",
    "        cv2.circle(fix_img,(x,y),50,(0,255,0),-1)\n",
    "\n",
    "cv2.namedWindow(winname='Image')\n",
    "cv2.setMouseCallback('Image',draw_circle)\n",
    "\n",
    "\n",
    "#########create a imge \n",
    "# fix_img=np.zeros(shape=(512,512,3),dtype=np.int8) ####gray color on board\n",
    "fix_img=np.zeros(shape=(512,512,3)) ####back color\n",
    "###showing image using cv\n",
    "while True:\n",
    "    cv2.imshow('Image',fix_img)\n",
    "    if cv2.waitKey(10) & 0xFF == 27:\n",
    "        break\n",
    "cv2.destroyAllWindows()"
   ]
  },
  {
   "cell_type": "code",
   "execution_count": 1,
   "metadata": {},
   "outputs": [],
   "source": [
    "import numpy as np\n",
    "import cv2\n",
    "\n",
    "########Functions########\n",
    "def create_circle(event,x,y,flags,param): \n",
    "    if event==cv2.EVENT_RBUTTONDOWN:####event for right button\n",
    "        cv2.circle(fix_img,(x,y),50,(0,255,0),-1)\n",
    "\n",
    "cv2.namedWindow(winname='river')\n",
    "cv2.setMouseCallback('river',create_circle)\n",
    "\n",
    "\n",
    "#########create a imge \n",
    "img=cv2.imread('images/river.png')\n",
    "while True:\n",
    "    cv2.imshow('river',img)\n",
    "    if cv2.waitKey(10) & 0xFF == 27:\n",
    "        break\n",
    "cv2.destroyAllWindows()"
   ]
  },
  {
   "cell_type": "code",
   "execution_count": null,
   "metadata": {},
   "outputs": [],
   "source": []
  }
 ],
 "metadata": {
  "kernelspec": {
   "display_name": "Python 3",
   "language": "python",
   "name": "python3"
  },
  "language_info": {
   "codemirror_mode": {
    "name": "ipython",
    "version": 3
   },
   "file_extension": ".py",
   "mimetype": "text/x-python",
   "name": "python",
   "nbconvert_exporter": "python",
   "pygments_lexer": "ipython3",
   "version": "3.8.1"
  }
 },
 "nbformat": 4,
 "nbformat_minor": 4
}
